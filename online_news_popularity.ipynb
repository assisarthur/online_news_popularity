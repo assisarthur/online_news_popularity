{
 "cells": [
  {
   "cell_type": "code",
   "execution_count": 26,
   "metadata": {
    "colab": {
     "base_uri": "https://localhost:8080/",
     "height": 316
    },
    "colab_type": "code",
    "executionInfo": {
     "elapsed": 8813,
     "status": "ok",
     "timestamp": 1545255824212,
     "user": {
      "displayName": "Arthur Assis",
      "photoUrl": "https://lh4.googleusercontent.com/-5KU4tLOW8zM/AAAAAAAAAAI/AAAAAAAAAII/iRgWaIIgHkE/s64/photo.jpg",
      "userId": "16374502001537913584"
     },
     "user_tz": 120
    },
    "id": "tfknXXvpeIMC",
    "outputId": "710a0805-3bd9-40ee-c132-4e247ca28d8a"
   },
   "outputs": [
    {
     "name": "stdout",
     "output_type": "stream",
     "text": [
      "Collecting seaborn==0.9.0\n",
      "\u001b[?25l  Downloading https://files.pythonhosted.org/packages/a8/76/220ba4420459d9c4c9c9587c6ce607bf56c25b3d3d2de62056efe482dadc/seaborn-0.9.0-py3-none-any.whl (208kB)\n",
      "\u001b[K    100% |████████████████████████████████| 215kB 22.8MB/s \n",
      "\u001b[?25hRequirement already satisfied: pandas>=0.15.2 in /usr/local/lib/python3.6/dist-packages (from seaborn==0.9.0) (0.22.0)\n",
      "Requirement already satisfied: numpy>=1.9.3 in /usr/local/lib/python3.6/dist-packages (from seaborn==0.9.0) (1.14.6)\n",
      "Requirement already satisfied: matplotlib>=1.4.3 in /usr/local/lib/python3.6/dist-packages (from seaborn==0.9.0) (2.1.2)\n",
      "Requirement already satisfied: scipy>=0.14.0 in /usr/local/lib/python3.6/dist-packages (from seaborn==0.9.0) (1.1.0)\n",
      "Requirement already satisfied: pytz>=2011k in /usr/local/lib/python3.6/dist-packages (from pandas>=0.15.2->seaborn==0.9.0) (2018.7)\n",
      "Requirement already satisfied: python-dateutil>=2 in /usr/local/lib/python3.6/dist-packages (from pandas>=0.15.2->seaborn==0.9.0) (2.5.3)\n",
      "Requirement already satisfied: cycler>=0.10 in /usr/local/lib/python3.6/dist-packages (from matplotlib>=1.4.3->seaborn==0.9.0) (0.10.0)\n",
      "Requirement already satisfied: six>=1.10 in /usr/local/lib/python3.6/dist-packages (from matplotlib>=1.4.3->seaborn==0.9.0) (1.11.0)\n",
      "Requirement already satisfied: pyparsing!=2.0.4,!=2.1.2,!=2.1.6,>=2.0.1 in /usr/local/lib/python3.6/dist-packages (from matplotlib>=1.4.3->seaborn==0.9.0) (2.3.0)\n",
      "Installing collected packages: seaborn\n",
      "  Found existing installation: seaborn 0.7.1\n",
      "    Uninstalling seaborn-0.7.1:\n",
      "      Successfully uninstalled seaborn-0.7.1\n",
      "Successfully installed seaborn-0.9.0\n"
     ]
    }
   ],
   "source": [
    "!pip install -q tpot\n",
    "!pip install seaborn==0.9.0\n",
    "\n",
    "from sklearn.mixture import GaussianMixture\n",
    "from sklearn.cluster import KMeans\n",
    "from sklearn import metrics\n",
    "from scipy.spatial.distance import cdist\n",
    "import numpy as np\n",
    "import pandas as pd\n",
    "import matplotlib.pyplot as plt\n",
    "from sklearn import metrics\n",
    "from sklearn.metrics import pairwise_distances\n",
    "from sklearn.metrics.cluster import contingency_matrix\n",
    "from sklearn.decomposition import PCA\n",
    "from scipy.stats.mstats import zscore\n",
    "from pylab import savefig\n",
    "\n",
    "from sklearn.model_selection import train_test_split\n",
    "import seaborn as sns\n",
    "sns.set(style=\"white\")\n",
    "sns.set(style=\"whitegrid\", color_codes=True)\n",
    "\n",
    "from sklearn.metrics import r2_score\n",
    "\n",
    "from sklearn.linear_model import ElasticNet\n",
    "from sklearn.svm import SVR\n",
    "from sklearn.ensemble import RandomForestRegressor\n",
    "from sklearn.linear_model import LinearRegression\n",
    "from sklearn.model_selection import GridSearchCV\n",
    "\n",
    "from sklearn.neighbors import LocalOutlierFactor\n",
    "\n",
    "import requests\n",
    "import io\n",
    "\n",
    "from tpot import TPOTRegressor\n",
    "\n",
    "from sklearn.pipeline import make_pipeline, make_union\n",
    "from sklearn.preprocessing import StandardScaler\n",
    "from tpot.builtins import StackingEstimator\n",
    "from sklearn.linear_model import ElasticNetCV\n",
    "\n",
    "from google.colab import files  # para fazer download dos arquivos gerados no Colab"
   ]
  },
  {
   "cell_type": "code",
   "execution_count": 0,
   "metadata": {
    "colab": {},
    "colab_type": "code",
    "id": "TqTiFfVaeIMF"
   },
   "outputs": [],
   "source": [
    "class Preprocessar:\n",
    "    \n",
    "    def processar(self, df):\n",
    "\n",
    "        self.cols_del = ['url', 'LDA_00', 'LDA_01', 'LDA_02', 'LDA_03', 'LDA_04']\n",
    "        self.cols_norm = ['self_reference_max_shares', 'self_reference_min_shares', \n",
    "                         'self_reference_avg_sharess', 'n_tokens_content', 'num_imgs',\n",
    "                         'num_keywords', 'timedelta', 'n_tokens_title', 'num_hrefs',\n",
    "                         'num_self_hrefs']\n",
    "        df.columns = [col.strip() for col in df.columns]\n",
    "\n",
    "        # Normaliza as colunas cols_norm\n",
    "        self.stats = pd.DataFrame(columns = [\"feature\", \"min\", \"max\", \"mean\", \"std\"])\n",
    "        for col in self.cols_norm:            \n",
    "            res = {\"feature\": col,\n",
    "                   \"min\": df[col].min(),\n",
    "                   \"max\": df[col].max(),\n",
    "                   \"mean\": df[col].mean(),\n",
    "                   \"std\": df[col].std()}\n",
    "            self.stats = self.stats.append(res, ignore_index=True)\n",
    "            df[col] = zscore(df[col])        \n",
    "    \n",
    "        df['shares'] = df['shares'].apply(np.log10)\n",
    "    \n",
    "        df.drop(self.cols_del, axis=1, inplace=True)\n",
    "\n",
    "    def reverter_zscore(self, feature, value):\n",
    "        feat_values = pre.stats[pre.stats['feature'] == feature].iloc[0]\n",
    "        return feat_values['std'] * value + feat_values['mean']"
   ]
  },
  {
   "cell_type": "code",
   "execution_count": 3,
   "metadata": {
    "colab": {
     "base_uri": "https://localhost:8080/",
     "height": 328
    },
    "colab_type": "code",
    "executionInfo": {
     "elapsed": 19313,
     "status": "ok",
     "timestamp": 1545254537429,
     "user": {
      "displayName": "Arthur Assis",
      "photoUrl": "https://lh4.googleusercontent.com/-5KU4tLOW8zM/AAAAAAAAAAI/AAAAAAAAAII/iRgWaIIgHkE/s64/photo.jpg",
      "userId": "16374502001537913584"
     },
     "user_tz": 120
    },
    "id": "STEGcRvjeIMI",
    "outputId": "c00bf99e-8e2d-4f59-8b1e-5884740a6bfc"
   },
   "outputs": [
    {
     "data": {
      "text/html": [
       "<div>\n",
       "<style scoped>\n",
       "    .dataframe tbody tr th:only-of-type {\n",
       "        vertical-align: middle;\n",
       "    }\n",
       "\n",
       "    .dataframe tbody tr th {\n",
       "        vertical-align: top;\n",
       "    }\n",
       "\n",
       "    .dataframe thead th {\n",
       "        text-align: right;\n",
       "    }\n",
       "</style>\n",
       "<table border=\"1\" class=\"dataframe\">\n",
       "  <thead>\n",
       "    <tr style=\"text-align: right;\">\n",
       "      <th></th>\n",
       "      <th>url</th>\n",
       "      <th>timedelta</th>\n",
       "      <th>n_tokens_title</th>\n",
       "      <th>n_tokens_content</th>\n",
       "      <th>n_unique_tokens</th>\n",
       "      <th>n_non_stop_words</th>\n",
       "      <th>n_non_stop_unique_tokens</th>\n",
       "      <th>num_hrefs</th>\n",
       "      <th>num_self_hrefs</th>\n",
       "      <th>num_imgs</th>\n",
       "      <th>...</th>\n",
       "      <th>min_positive_polarity</th>\n",
       "      <th>max_positive_polarity</th>\n",
       "      <th>avg_negative_polarity</th>\n",
       "      <th>min_negative_polarity</th>\n",
       "      <th>max_negative_polarity</th>\n",
       "      <th>title_subjectivity</th>\n",
       "      <th>title_sentiment_polarity</th>\n",
       "      <th>abs_title_subjectivity</th>\n",
       "      <th>abs_title_sentiment_polarity</th>\n",
       "      <th>shares</th>\n",
       "    </tr>\n",
       "  </thead>\n",
       "  <tbody>\n",
       "    <tr>\n",
       "      <th>0</th>\n",
       "      <td>http://mashable.com/2013/01/07/amazon-instant-...</td>\n",
       "      <td>731.0</td>\n",
       "      <td>12.0</td>\n",
       "      <td>219.0</td>\n",
       "      <td>0.663594</td>\n",
       "      <td>1.0</td>\n",
       "      <td>0.815385</td>\n",
       "      <td>4.0</td>\n",
       "      <td>2.0</td>\n",
       "      <td>1.0</td>\n",
       "      <td>...</td>\n",
       "      <td>0.100000</td>\n",
       "      <td>0.7</td>\n",
       "      <td>-0.350000</td>\n",
       "      <td>-0.600</td>\n",
       "      <td>-0.200000</td>\n",
       "      <td>0.500000</td>\n",
       "      <td>-0.187500</td>\n",
       "      <td>0.000000</td>\n",
       "      <td>0.187500</td>\n",
       "      <td>593</td>\n",
       "    </tr>\n",
       "    <tr>\n",
       "      <th>1</th>\n",
       "      <td>http://mashable.com/2013/01/07/ap-samsung-spon...</td>\n",
       "      <td>731.0</td>\n",
       "      <td>9.0</td>\n",
       "      <td>255.0</td>\n",
       "      <td>0.604743</td>\n",
       "      <td>1.0</td>\n",
       "      <td>0.791946</td>\n",
       "      <td>3.0</td>\n",
       "      <td>1.0</td>\n",
       "      <td>1.0</td>\n",
       "      <td>...</td>\n",
       "      <td>0.033333</td>\n",
       "      <td>0.7</td>\n",
       "      <td>-0.118750</td>\n",
       "      <td>-0.125</td>\n",
       "      <td>-0.100000</td>\n",
       "      <td>0.000000</td>\n",
       "      <td>0.000000</td>\n",
       "      <td>0.500000</td>\n",
       "      <td>0.000000</td>\n",
       "      <td>711</td>\n",
       "    </tr>\n",
       "    <tr>\n",
       "      <th>2</th>\n",
       "      <td>http://mashable.com/2013/01/07/apple-40-billio...</td>\n",
       "      <td>731.0</td>\n",
       "      <td>9.0</td>\n",
       "      <td>211.0</td>\n",
       "      <td>0.575130</td>\n",
       "      <td>1.0</td>\n",
       "      <td>0.663866</td>\n",
       "      <td>3.0</td>\n",
       "      <td>1.0</td>\n",
       "      <td>1.0</td>\n",
       "      <td>...</td>\n",
       "      <td>0.100000</td>\n",
       "      <td>1.0</td>\n",
       "      <td>-0.466667</td>\n",
       "      <td>-0.800</td>\n",
       "      <td>-0.133333</td>\n",
       "      <td>0.000000</td>\n",
       "      <td>0.000000</td>\n",
       "      <td>0.500000</td>\n",
       "      <td>0.000000</td>\n",
       "      <td>1500</td>\n",
       "    </tr>\n",
       "    <tr>\n",
       "      <th>3</th>\n",
       "      <td>http://mashable.com/2013/01/07/astronaut-notre...</td>\n",
       "      <td>731.0</td>\n",
       "      <td>9.0</td>\n",
       "      <td>531.0</td>\n",
       "      <td>0.503788</td>\n",
       "      <td>1.0</td>\n",
       "      <td>0.665635</td>\n",
       "      <td>9.0</td>\n",
       "      <td>0.0</td>\n",
       "      <td>1.0</td>\n",
       "      <td>...</td>\n",
       "      <td>0.136364</td>\n",
       "      <td>0.8</td>\n",
       "      <td>-0.369697</td>\n",
       "      <td>-0.600</td>\n",
       "      <td>-0.166667</td>\n",
       "      <td>0.000000</td>\n",
       "      <td>0.000000</td>\n",
       "      <td>0.500000</td>\n",
       "      <td>0.000000</td>\n",
       "      <td>1200</td>\n",
       "    </tr>\n",
       "    <tr>\n",
       "      <th>4</th>\n",
       "      <td>http://mashable.com/2013/01/07/att-u-verse-apps/</td>\n",
       "      <td>731.0</td>\n",
       "      <td>13.0</td>\n",
       "      <td>1072.0</td>\n",
       "      <td>0.415646</td>\n",
       "      <td>1.0</td>\n",
       "      <td>0.540890</td>\n",
       "      <td>19.0</td>\n",
       "      <td>19.0</td>\n",
       "      <td>20.0</td>\n",
       "      <td>...</td>\n",
       "      <td>0.033333</td>\n",
       "      <td>1.0</td>\n",
       "      <td>-0.220192</td>\n",
       "      <td>-0.500</td>\n",
       "      <td>-0.050000</td>\n",
       "      <td>0.454545</td>\n",
       "      <td>0.136364</td>\n",
       "      <td>0.045455</td>\n",
       "      <td>0.136364</td>\n",
       "      <td>505</td>\n",
       "    </tr>\n",
       "  </tbody>\n",
       "</table>\n",
       "<p>5 rows × 61 columns</p>\n",
       "</div>"
      ],
      "text/plain": [
       "                                                 url   timedelta  \\\n",
       "0  http://mashable.com/2013/01/07/amazon-instant-...       731.0   \n",
       "1  http://mashable.com/2013/01/07/ap-samsung-spon...       731.0   \n",
       "2  http://mashable.com/2013/01/07/apple-40-billio...       731.0   \n",
       "3  http://mashable.com/2013/01/07/astronaut-notre...       731.0   \n",
       "4   http://mashable.com/2013/01/07/att-u-verse-apps/       731.0   \n",
       "\n",
       "    n_tokens_title   n_tokens_content   n_unique_tokens   n_non_stop_words  \\\n",
       "0             12.0              219.0          0.663594                1.0   \n",
       "1              9.0              255.0          0.604743                1.0   \n",
       "2              9.0              211.0          0.575130                1.0   \n",
       "3              9.0              531.0          0.503788                1.0   \n",
       "4             13.0             1072.0          0.415646                1.0   \n",
       "\n",
       "    n_non_stop_unique_tokens   num_hrefs   num_self_hrefs   num_imgs   ...     \\\n",
       "0                   0.815385         4.0              2.0        1.0   ...      \n",
       "1                   0.791946         3.0              1.0        1.0   ...      \n",
       "2                   0.663866         3.0              1.0        1.0   ...      \n",
       "3                   0.665635         9.0              0.0        1.0   ...      \n",
       "4                   0.540890        19.0             19.0       20.0   ...      \n",
       "\n",
       "    min_positive_polarity   max_positive_polarity   avg_negative_polarity  \\\n",
       "0                0.100000                     0.7               -0.350000   \n",
       "1                0.033333                     0.7               -0.118750   \n",
       "2                0.100000                     1.0               -0.466667   \n",
       "3                0.136364                     0.8               -0.369697   \n",
       "4                0.033333                     1.0               -0.220192   \n",
       "\n",
       "    min_negative_polarity   max_negative_polarity   title_subjectivity  \\\n",
       "0                  -0.600               -0.200000             0.500000   \n",
       "1                  -0.125               -0.100000             0.000000   \n",
       "2                  -0.800               -0.133333             0.000000   \n",
       "3                  -0.600               -0.166667             0.000000   \n",
       "4                  -0.500               -0.050000             0.454545   \n",
       "\n",
       "    title_sentiment_polarity   abs_title_subjectivity  \\\n",
       "0                  -0.187500                 0.000000   \n",
       "1                   0.000000                 0.500000   \n",
       "2                   0.000000                 0.500000   \n",
       "3                   0.000000                 0.500000   \n",
       "4                   0.136364                 0.045455   \n",
       "\n",
       "    abs_title_sentiment_polarity   shares  \n",
       "0                       0.187500      593  \n",
       "1                       0.000000      711  \n",
       "2                       0.000000     1500  \n",
       "3                       0.000000     1200  \n",
       "4                       0.136364      505  \n",
       "\n",
       "[5 rows x 61 columns]"
      ]
     },
     "execution_count": 3,
     "metadata": {
      "tags": []
     },
     "output_type": "execute_result"
    }
   ],
   "source": [
    "url=\"https://raw.githubusercontent.com/lgscoding/MachineLearning/master/data/OnlineNewsPopularity.csv\"\n",
    "df = pd.read_csv(url)\n",
    "df.head()"
   ]
  },
  {
   "cell_type": "code",
   "execution_count": 4,
   "metadata": {
    "colab": {
     "base_uri": "https://localhost:8080/",
     "height": 34
    },
    "colab_type": "code",
    "executionInfo": {
     "elapsed": 19300,
     "status": "ok",
     "timestamp": 1545254537429,
     "user": {
      "displayName": "Arthur Assis",
      "photoUrl": "https://lh4.googleusercontent.com/-5KU4tLOW8zM/AAAAAAAAAAI/AAAAAAAAAII/iRgWaIIgHkE/s64/photo.jpg",
      "userId": "16374502001537913584"
     },
     "user_tz": 120
    },
    "id": "j9i7pit8eIMO",
    "outputId": "f89f6c5b-296a-4991-df31-1238bea5c1ea"
   },
   "outputs": [
    {
     "data": {
      "text/plain": [
       "(39644, 61)"
      ]
     },
     "execution_count": 4,
     "metadata": {
      "tags": []
     },
     "output_type": "execute_result"
    }
   ],
   "source": [
    "df.shape"
   ]
  },
  {
   "cell_type": "code",
   "execution_count": 5,
   "metadata": {
    "colab": {
     "base_uri": "https://localhost:8080/",
     "height": 1108
    },
    "colab_type": "code",
    "executionInfo": {
     "elapsed": 19585,
     "status": "ok",
     "timestamp": 1545254537725,
     "user": {
      "displayName": "Arthur Assis",
      "photoUrl": "https://lh4.googleusercontent.com/-5KU4tLOW8zM/AAAAAAAAAAI/AAAAAAAAAII/iRgWaIIgHkE/s64/photo.jpg",
      "userId": "16374502001537913584"
     },
     "user_tz": 120
    },
    "id": "QGVloDBNgZ1q",
    "outputId": "2baa2369-e29d-4117-8343-490e5df1a89d"
   },
   "outputs": [
    {
     "data": {
      "text/plain": [
       "url                               0\n",
       " timedelta                        0\n",
       " n_tokens_title                   0\n",
       " n_tokens_content                 0\n",
       " n_unique_tokens                  0\n",
       " n_non_stop_words                 0\n",
       " n_non_stop_unique_tokens         0\n",
       " num_hrefs                        0\n",
       " num_self_hrefs                   0\n",
       " num_imgs                         0\n",
       " num_videos                       0\n",
       " average_token_length             0\n",
       " num_keywords                     0\n",
       " data_channel_is_lifestyle        0\n",
       " data_channel_is_entertainment    0\n",
       " data_channel_is_bus              0\n",
       " data_channel_is_socmed           0\n",
       " data_channel_is_tech             0\n",
       " data_channel_is_world            0\n",
       " kw_min_min                       0\n",
       " kw_max_min                       0\n",
       " kw_avg_min                       0\n",
       " kw_min_max                       0\n",
       " kw_max_max                       0\n",
       " kw_avg_max                       0\n",
       " kw_min_avg                       0\n",
       " kw_max_avg                       0\n",
       " kw_avg_avg                       0\n",
       " self_reference_min_shares        0\n",
       " self_reference_max_shares        0\n",
       "                                 ..\n",
       " weekday_is_monday                0\n",
       " weekday_is_tuesday               0\n",
       " weekday_is_wednesday             0\n",
       " weekday_is_thursday              0\n",
       " weekday_is_friday                0\n",
       " weekday_is_saturday              0\n",
       " weekday_is_sunday                0\n",
       " is_weekend                       0\n",
       " LDA_00                           0\n",
       " LDA_01                           0\n",
       " LDA_02                           0\n",
       " LDA_03                           0\n",
       " LDA_04                           0\n",
       " global_subjectivity              0\n",
       " global_sentiment_polarity        0\n",
       " global_rate_positive_words       0\n",
       " global_rate_negative_words       0\n",
       " rate_positive_words              0\n",
       " rate_negative_words              0\n",
       " avg_positive_polarity            0\n",
       " min_positive_polarity            0\n",
       " max_positive_polarity            0\n",
       " avg_negative_polarity            0\n",
       " min_negative_polarity            0\n",
       " max_negative_polarity            0\n",
       " title_subjectivity               0\n",
       " title_sentiment_polarity         0\n",
       " abs_title_subjectivity           0\n",
       " abs_title_sentiment_polarity     0\n",
       " shares                           0\n",
       "Length: 61, dtype: int64"
      ]
     },
     "execution_count": 5,
     "metadata": {
      "tags": []
     },
     "output_type": "execute_result"
    }
   ],
   "source": [
    "df.apply(lambda a: a.isnull().sum(),axis=0)"
   ]
  },
  {
   "cell_type": "code",
   "execution_count": 6,
   "metadata": {
    "colab": {
     "base_uri": "https://localhost:8080/",
     "height": 244
    },
    "colab_type": "code",
    "executionInfo": {
     "elapsed": 19577,
     "status": "ok",
     "timestamp": 1545254537726,
     "user": {
      "displayName": "Arthur Assis",
      "photoUrl": "https://lh4.googleusercontent.com/-5KU4tLOW8zM/AAAAAAAAAAI/AAAAAAAAAII/iRgWaIIgHkE/s64/photo.jpg",
      "userId": "16374502001537913584"
     },
     "user_tz": 120
    },
    "id": "lpNzEmE0g-EL",
    "outputId": "bd29f65b-3b6f-441f-c619-3a94e177fef5"
   },
   "outputs": [
    {
     "data": {
      "text/html": [
       "<div>\n",
       "<style scoped>\n",
       "    .dataframe tbody tr th:only-of-type {\n",
       "        vertical-align: middle;\n",
       "    }\n",
       "\n",
       "    .dataframe tbody tr th {\n",
       "        vertical-align: top;\n",
       "    }\n",
       "\n",
       "    .dataframe thead th {\n",
       "        text-align: right;\n",
       "    }\n",
       "</style>\n",
       "<table border=\"1\" class=\"dataframe\">\n",
       "  <thead>\n",
       "    <tr style=\"text-align: right;\">\n",
       "      <th></th>\n",
       "      <th>timedelta</th>\n",
       "      <th>n_tokens_title</th>\n",
       "      <th>n_tokens_content</th>\n",
       "      <th>n_unique_tokens</th>\n",
       "      <th>n_non_stop_words</th>\n",
       "      <th>n_non_stop_unique_tokens</th>\n",
       "      <th>num_hrefs</th>\n",
       "      <th>num_self_hrefs</th>\n",
       "      <th>num_imgs</th>\n",
       "      <th>num_videos</th>\n",
       "      <th>...</th>\n",
       "      <th>min_positive_polarity</th>\n",
       "      <th>max_positive_polarity</th>\n",
       "      <th>avg_negative_polarity</th>\n",
       "      <th>min_negative_polarity</th>\n",
       "      <th>max_negative_polarity</th>\n",
       "      <th>title_subjectivity</th>\n",
       "      <th>title_sentiment_polarity</th>\n",
       "      <th>abs_title_subjectivity</th>\n",
       "      <th>abs_title_sentiment_polarity</th>\n",
       "      <th>shares</th>\n",
       "    </tr>\n",
       "  </thead>\n",
       "  <tbody>\n",
       "    <tr>\n",
       "      <th>0</th>\n",
       "      <td>1.75788</td>\n",
       "      <td>0.757447</td>\n",
       "      <td>-0.695210</td>\n",
       "      <td>0.663594</td>\n",
       "      <td>1.0</td>\n",
       "      <td>0.815385</td>\n",
       "      <td>-0.607463</td>\n",
       "      <td>-0.335566</td>\n",
       "      <td>-0.426526</td>\n",
       "      <td>0.0</td>\n",
       "      <td>...</td>\n",
       "      <td>0.100000</td>\n",
       "      <td>0.7</td>\n",
       "      <td>-0.350000</td>\n",
       "      <td>-0.600</td>\n",
       "      <td>-0.200000</td>\n",
       "      <td>0.500000</td>\n",
       "      <td>-0.187500</td>\n",
       "      <td>0.000000</td>\n",
       "      <td>0.187500</td>\n",
       "      <td>2.773055</td>\n",
       "    </tr>\n",
       "    <tr>\n",
       "      <th>1</th>\n",
       "      <td>1.75788</td>\n",
       "      <td>-0.661657</td>\n",
       "      <td>-0.618794</td>\n",
       "      <td>0.604743</td>\n",
       "      <td>1.0</td>\n",
       "      <td>0.791946</td>\n",
       "      <td>-0.695709</td>\n",
       "      <td>-0.594963</td>\n",
       "      <td>-0.426526</td>\n",
       "      <td>0.0</td>\n",
       "      <td>...</td>\n",
       "      <td>0.033333</td>\n",
       "      <td>0.7</td>\n",
       "      <td>-0.118750</td>\n",
       "      <td>-0.125</td>\n",
       "      <td>-0.100000</td>\n",
       "      <td>0.000000</td>\n",
       "      <td>0.000000</td>\n",
       "      <td>0.500000</td>\n",
       "      <td>0.000000</td>\n",
       "      <td>2.851870</td>\n",
       "    </tr>\n",
       "    <tr>\n",
       "      <th>2</th>\n",
       "      <td>1.75788</td>\n",
       "      <td>-0.661657</td>\n",
       "      <td>-0.712192</td>\n",
       "      <td>0.575130</td>\n",
       "      <td>1.0</td>\n",
       "      <td>0.663866</td>\n",
       "      <td>-0.695709</td>\n",
       "      <td>-0.594963</td>\n",
       "      <td>-0.426526</td>\n",
       "      <td>0.0</td>\n",
       "      <td>...</td>\n",
       "      <td>0.100000</td>\n",
       "      <td>1.0</td>\n",
       "      <td>-0.466667</td>\n",
       "      <td>-0.800</td>\n",
       "      <td>-0.133333</td>\n",
       "      <td>0.000000</td>\n",
       "      <td>0.000000</td>\n",
       "      <td>0.500000</td>\n",
       "      <td>0.000000</td>\n",
       "      <td>3.176091</td>\n",
       "    </tr>\n",
       "    <tr>\n",
       "      <th>3</th>\n",
       "      <td>1.75788</td>\n",
       "      <td>-0.661657</td>\n",
       "      <td>-0.032933</td>\n",
       "      <td>0.503788</td>\n",
       "      <td>1.0</td>\n",
       "      <td>0.665635</td>\n",
       "      <td>-0.166229</td>\n",
       "      <td>-0.854360</td>\n",
       "      <td>-0.426526</td>\n",
       "      <td>0.0</td>\n",
       "      <td>...</td>\n",
       "      <td>0.136364</td>\n",
       "      <td>0.8</td>\n",
       "      <td>-0.369697</td>\n",
       "      <td>-0.600</td>\n",
       "      <td>-0.166667</td>\n",
       "      <td>0.000000</td>\n",
       "      <td>0.000000</td>\n",
       "      <td>0.500000</td>\n",
       "      <td>0.000000</td>\n",
       "      <td>3.079181</td>\n",
       "    </tr>\n",
       "    <tr>\n",
       "      <th>4</th>\n",
       "      <td>1.75788</td>\n",
       "      <td>1.230482</td>\n",
       "      <td>1.115439</td>\n",
       "      <td>0.415646</td>\n",
       "      <td>1.0</td>\n",
       "      <td>0.540890</td>\n",
       "      <td>0.716237</td>\n",
       "      <td>4.074185</td>\n",
       "      <td>1.860061</td>\n",
       "      <td>0.0</td>\n",
       "      <td>...</td>\n",
       "      <td>0.033333</td>\n",
       "      <td>1.0</td>\n",
       "      <td>-0.220192</td>\n",
       "      <td>-0.500</td>\n",
       "      <td>-0.050000</td>\n",
       "      <td>0.454545</td>\n",
       "      <td>0.136364</td>\n",
       "      <td>0.045455</td>\n",
       "      <td>0.136364</td>\n",
       "      <td>2.703291</td>\n",
       "    </tr>\n",
       "  </tbody>\n",
       "</table>\n",
       "<p>5 rows × 55 columns</p>\n",
       "</div>"
      ],
      "text/plain": [
       "   timedelta  n_tokens_title  n_tokens_content  n_unique_tokens  \\\n",
       "0    1.75788        0.757447         -0.695210         0.663594   \n",
       "1    1.75788       -0.661657         -0.618794         0.604743   \n",
       "2    1.75788       -0.661657         -0.712192         0.575130   \n",
       "3    1.75788       -0.661657         -0.032933         0.503788   \n",
       "4    1.75788        1.230482          1.115439         0.415646   \n",
       "\n",
       "   n_non_stop_words  n_non_stop_unique_tokens  num_hrefs  num_self_hrefs  \\\n",
       "0               1.0                  0.815385  -0.607463       -0.335566   \n",
       "1               1.0                  0.791946  -0.695709       -0.594963   \n",
       "2               1.0                  0.663866  -0.695709       -0.594963   \n",
       "3               1.0                  0.665635  -0.166229       -0.854360   \n",
       "4               1.0                  0.540890   0.716237        4.074185   \n",
       "\n",
       "   num_imgs  num_videos    ...     min_positive_polarity  \\\n",
       "0 -0.426526         0.0    ...                  0.100000   \n",
       "1 -0.426526         0.0    ...                  0.033333   \n",
       "2 -0.426526         0.0    ...                  0.100000   \n",
       "3 -0.426526         0.0    ...                  0.136364   \n",
       "4  1.860061         0.0    ...                  0.033333   \n",
       "\n",
       "   max_positive_polarity  avg_negative_polarity  min_negative_polarity  \\\n",
       "0                    0.7              -0.350000                 -0.600   \n",
       "1                    0.7              -0.118750                 -0.125   \n",
       "2                    1.0              -0.466667                 -0.800   \n",
       "3                    0.8              -0.369697                 -0.600   \n",
       "4                    1.0              -0.220192                 -0.500   \n",
       "\n",
       "   max_negative_polarity  title_subjectivity  title_sentiment_polarity  \\\n",
       "0              -0.200000            0.500000                 -0.187500   \n",
       "1              -0.100000            0.000000                  0.000000   \n",
       "2              -0.133333            0.000000                  0.000000   \n",
       "3              -0.166667            0.000000                  0.000000   \n",
       "4              -0.050000            0.454545                  0.136364   \n",
       "\n",
       "   abs_title_subjectivity  abs_title_sentiment_polarity    shares  \n",
       "0                0.000000                      0.187500  2.773055  \n",
       "1                0.500000                      0.000000  2.851870  \n",
       "2                0.500000                      0.000000  3.176091  \n",
       "3                0.500000                      0.000000  3.079181  \n",
       "4                0.045455                      0.136364  2.703291  \n",
       "\n",
       "[5 rows x 55 columns]"
      ]
     },
     "execution_count": 6,
     "metadata": {
      "tags": []
     },
     "output_type": "execute_result"
    }
   ],
   "source": [
    "pre = Preprocessar()\n",
    "pre.processar(df)\n",
    "df.head()"
   ]
  },
  {
   "cell_type": "markdown",
   "metadata": {
    "colab_type": "text",
    "id": "1xk5i1kHSqE0"
   },
   "source": [
    "## Função para plotar os outliers existentes na base"
   ]
  },
  {
   "cell_type": "code",
   "execution_count": 0,
   "metadata": {
    "colab": {},
    "colab_type": "code",
    "id": "lh_Ct55bhY2w"
   },
   "outputs": [],
   "source": [
    "def plotar(df, grupo, x_label=\"x\", y_label=\"y\", titulo=None):\n",
    "        \"\"\"\n",
    "            @param res_algoritmo : pd.DataFrame, deve ter as seguintes colunas (x, y, grupo)\n",
    "        \"\"\"  \n",
    "      \n",
    "        # verifica quantos clusters tem \n",
    "        grupos = np.sort(df[grupo].unique())\n",
    "        \n",
    "        plots = []        \n",
    "        for g in grupos:\n",
    "            p = plt.scatter(df[df[grupo] == g].x, df[df[grupo] == g].y)\n",
    "            plots.append(p)\n",
    "\n",
    "        plt.legend(tuple(plots),\n",
    "               (tuple([\"{g} {x}\".format(g=grupo, x = str(c)) for c in grupos])), \n",
    "               loc=2, fontsize=8, bbox_to_anchor=(1.05, 1))\n",
    "        plt.xlabel(x_label)\n",
    "        plt.ylabel(y_label)\n",
    "        plt.title(titulo)\n",
    "        plt.show()\n"
   ]
  },
  {
   "cell_type": "markdown",
   "metadata": {
    "colab_type": "text",
    "id": "alRwseHaSl2-"
   },
   "source": [
    "## Análise de Outliers"
   ]
  },
  {
   "cell_type": "code",
   "execution_count": 8,
   "metadata": {
    "colab": {
     "base_uri": "https://localhost:8080/",
     "height": 376
    },
    "colab_type": "code",
    "executionInfo": {
     "elapsed": 30073,
     "status": "ok",
     "timestamp": 1545254548242,
     "user": {
      "displayName": "Arthur Assis",
      "photoUrl": "https://lh4.googleusercontent.com/-5KU4tLOW8zM/AAAAAAAAAAI/AAAAAAAAAII/iRgWaIIgHkE/s64/photo.jpg",
      "userId": "16374502001537913584"
     },
     "user_tz": 120
    },
    "id": "dTgKpDKDhsE6",
    "outputId": "97f62c5d-ca09-41af-fb4a-a4a0fe2420e7"
   },
   "outputs": [
    {
     "data": {
      "image/png": "[encoded data removed]",
      "text/plain": [
       "<matplotlib.figure.Figure at 0x7f1d84d7e748>"
      ]
     },
     "metadata": {
      "tags": []
     },
     "output_type": "display_data"
    }
   ],
   "source": [
    "clf = LocalOutlierFactor(n_neighbors=20, contamination=0.1)\n",
    "outlier = clf.fit_predict(df)\n",
    "df['inlier'] = [True if x == 1 else False for x in outlier]\n",
    "\n",
    "X = df.loc[:, df.columns != 'shares']\n",
    "pca = PCA(n_components=2)\n",
    "pca.fit(X)\n",
    "pca_X = pca.transform(X)\n",
    "\n",
    "df['x'] = pca_X[:,0]\n",
    "df['y'] = pca_X[:,1]\n",
    "\n",
    "plotar(df, \"inlier\", \"PC1\", \"PC2\", \"Análise de Outliers\")"
   ]
  },
  {
   "cell_type": "markdown",
   "metadata": {
    "colab_type": "text",
    "id": "haV3Nqt4Sgaw"
   },
   "source": [
    "## Filtrando os Outliers"
   ]
  },
  {
   "cell_type": "code",
   "execution_count": 9,
   "metadata": {
    "colab": {
     "base_uri": "https://localhost:8080/",
     "height": 106
    },
    "colab_type": "code",
    "executionInfo": {
     "elapsed": 30058,
     "status": "ok",
     "timestamp": 1545254548243,
     "user": {
      "displayName": "Arthur Assis",
      "photoUrl": "https://lh4.googleusercontent.com/-5KU4tLOW8zM/AAAAAAAAAAI/AAAAAAAAAII/iRgWaIIgHkE/s64/photo.jpg",
      "userId": "16374502001537913584"
     },
     "user_tz": 120
    },
    "id": "Cm_26k8JjIlA",
    "outputId": "23c0935b-452d-4aca-a8a8-f4c48a5298c2"
   },
   "outputs": [
    {
     "name": "stderr",
     "output_type": "stream",
     "text": [
      "/usr/local/lib/python3.6/dist-packages/ipykernel_launcher.py:2: SettingWithCopyWarning: \n",
      "A value is trying to be set on a copy of a slice from a DataFrame\n",
      "\n",
      "See the caveats in the documentation: http://pandas.pydata.org/pandas-docs/stable/indexing.html#indexing-view-versus-copy\n",
      "  \n"
     ]
    }
   ],
   "source": [
    "df_sem_outlier = df[df['inlier'] == False]\n",
    "df_sem_outlier.drop(['inlier', 'x', 'y'], axis = 1, inplace = True)"
   ]
  },
  {
   "cell_type": "markdown",
   "metadata": {
    "colab_type": "text",
    "id": "1ofIJXBuSXE-"
   },
   "source": [
    "## Separação das features e target"
   ]
  },
  {
   "cell_type": "code",
   "execution_count": 0,
   "metadata": {
    "colab": {},
    "colab_type": "code",
    "id": "esCVv77hSMsO"
   },
   "outputs": [],
   "source": [
    "X = df_sem_outlier.loc[:, df_sem_outlier.columns != 'shares']\n",
    "y = df_sem_outlier.loc[:, df_sem_outlier.columns == 'shares']"
   ]
  },
  {
   "cell_type": "markdown",
   "metadata": {
    "colab_type": "text",
    "id": "NK4tZlVPS9A8"
   },
   "source": [
    "## Grid Search para os algoritmos que serão analisados:\n",
    "\n",
    "\n",
    "*  Random Forest Regressor\n",
    "*  ElasticNet\n",
    "* SVM\n",
    "* Regressão Linear\n",
    "\n"
   ]
  },
  {
   "cell_type": "code",
   "execution_count": 0,
   "metadata": {
    "colab": {},
    "colab_type": "code",
    "id": "tehJIWrojXPw"
   },
   "outputs": [],
   "source": [
    "grid = {\"elasticnet\": {\n",
    "            'alpha': [0.5, 1.0, 1.5],\n",
    "            'l1_ratio': [0.25, 0.5, 0.75]\n",
    "            },\n",
    "        \"regressao_linear\": {\n",
    "            'fit_intercept': [True, False]\n",
    "            }, \n",
    "        \"svm\": {\n",
    "            'kernel': ['rbf', 'linear','sigmoid'],\n",
    "            'C': [0.01, 0,100]\n",
    "            },\n",
    "        \"random_forest\": {\n",
    "            'max_features': ['auto', 'sqrt'],\n",
    "            'n_estimators': [200, 500]\n",
    "            }\n",
    "        }"
   ]
  },
  {
   "cell_type": "code",
   "execution_count": 0,
   "metadata": {
    "colab": {},
    "colab_type": "code",
    "id": "hL-4o65sjtvj"
   },
   "outputs": [],
   "source": [
    "algoritmos = {'elasticnet': ElasticNet(random_state=0, alpha = 1.5, l1_ratio = 0.75) ,\n",
    "              'svm': SVR(kernel = 'rbf', C = 100),\n",
    "              'regressao_linear': LinearRegression(fit_intercept = False),\n",
    "              'random_forest': RandomForestRegressor(random_state=0, max_features = 'sqrt', n_estimators=500)}\n"
   ]
  },
  {
   "cell_type": "code",
   "execution_count": 15,
   "metadata": {
    "colab": {
     "base_uri": "https://localhost:8080/",
     "height": 35
    },
    "colab_type": "code",
    "executionInfo": {
     "elapsed": 1035,
     "status": "ok",
     "timestamp": 1545254721042,
     "user": {
      "displayName": "Arthur Assis",
      "photoUrl": "https://lh4.googleusercontent.com/-5KU4tLOW8zM/AAAAAAAAAAI/AAAAAAAAAII/iRgWaIIgHkE/s64/photo.jpg",
      "userId": "16374502001537913584"
     },
     "user_tz": 120
    },
    "id": "Ys5M3PrwjwYm",
    "outputId": "31f12836-e396-45c9-f8fc-5352d541b186"
   },
   "outputs": [
    {
     "data": {
      "text/plain": [
       "'\\nresultado_grid = {}\\n\\nfor a in algoritmos:\\n    grid_search = GridSearchCV(algoritmos[a], grid[a], cv=5)\\n    grid_search.fit(X, y)\\n    resultado_grid[a] = grid_search\\n'"
      ]
     },
     "execution_count": 15,
     "metadata": {
      "tags": []
     },
     "output_type": "execute_result"
    }
   ],
   "source": [
    "\"\"\"\n",
    "resultado_grid = {}\n",
    "\n",
    "for a in algoritmos:\n",
    "    grid_search = GridSearchCV(algoritmos[a], grid[a], cv=5)\n",
    "    grid_search.fit(X, y)\n",
    "    resultado_grid[a] = grid_search\n",
    "\"\"\""
   ]
  },
  {
   "cell_type": "markdown",
   "metadata": {
    "colab_type": "text",
    "id": "rph7o0faTXsy"
   },
   "source": [
    "## Split da base em treino (70%) e teste (30%)"
   ]
  },
  {
   "cell_type": "code",
   "execution_count": 0,
   "metadata": {
    "colab": {},
    "colab_type": "code",
    "id": "z1OrLocXj4Ey"
   },
   "outputs": [],
   "source": [
    "X_train, X_test, y_train, y_test = train_test_split(X, y, test_size=0.3, random_state=0)"
   ]
  },
  {
   "cell_type": "markdown",
   "metadata": {
    "colab_type": "text",
    "id": "YJeiGh11TewT"
   },
   "source": [
    "## Execução dos Algoritmos"
   ]
  },
  {
   "cell_type": "code",
   "execution_count": 0,
   "metadata": {
    "colab": {},
    "colab_type": "code",
    "id": "029AwjRuj7Iq"
   },
   "outputs": [],
   "source": [
    "\"\"\"\n",
    "algoritmos = {'elasticnet': ElasticNet(resultado_grid['elasticnet'].best_params_),\\\n",
    "              'svm':        SVR(resultado_grid['svm'].best_params_),\\\n",
    "              'regressao_linear': LinearRegression(resultado_grid['regressao_linear'].best_params_),\\\n",
    "              'random_forest': RandomForestRegressor(resultado_grid['random_forest'].best_params_)}\n",
    "\"\"\"      "
   ]
  },
  {
   "cell_type": "code",
   "execution_count": 16,
   "metadata": {
    "colab": {
     "base_uri": "https://localhost:8080/",
     "height": 144
    },
    "colab_type": "code",
    "executionInfo": {
     "elapsed": 9097,
     "status": "ok",
     "timestamp": 1545254790604,
     "user": {
      "displayName": "Arthur Assis",
      "photoUrl": "https://lh4.googleusercontent.com/-5KU4tLOW8zM/AAAAAAAAAAI/AAAAAAAAAII/iRgWaIIgHkE/s64/photo.jpg",
      "userId": "16374502001537913584"
     },
     "user_tz": 120
    },
    "id": "06Uxkfw0j_J_",
    "outputId": "657f3e98-2fca-4941-8705-69e734eb634d"
   },
   "outputs": [
    {
     "name": "stderr",
     "output_type": "stream",
     "text": [
      "/usr/local/lib/python3.6/dist-packages/sklearn/utils/validation.py:761: DataConversionWarning: A column-vector y was passed when a 1d array was expected. Please change the shape of y to (n_samples, ), for example using ravel().\n",
      "  y = column_or_1d(y, warn=True)\n",
      "/usr/local/lib/python3.6/dist-packages/sklearn/svm/base.py:196: FutureWarning: The default value of gamma will change from 'auto' to 'scale' in version 0.22 to account better for unscaled features. Set gamma explicitly to 'auto' or 'scale' to avoid this warning.\n",
      "  \"avoid this warning.\", FutureWarning)\n",
      "/usr/local/lib/python3.6/dist-packages/ipykernel_launcher.py:8: DataConversionWarning: A column-vector y was passed when a 1d array was expected. Please change the shape of y to (n_samples,), for example using ravel().\n",
      "  \n"
     ]
    }
   ],
   "source": [
    "resultados = pd.DataFrame(columns=['algoritmo', 'parametros', 'score_treino', \n",
    "                                   'score_teste', \"evs\", \"mae\", \"mse\", \"msle\"])\n",
    "\n",
    "predicts = y_test.reset_index()\n",
    "\n",
    "for nome_alg in algoritmos:\n",
    "    alg = algoritmos[nome_alg]\n",
    "    alg.fit(X_train, y_train)\n",
    "    y_pred = alg.predict(X_test)\n",
    "    predicts['pred_' + nome_alg] = y_pred\n",
    "    res = {\"algoritmo\": nome_alg,\n",
    "           \"parametros\": None,\n",
    "           \"score_treino\": alg.score(X_train, y_train),\n",
    "           \"score_teste\": alg.score(X_test, y_test),\n",
    "           \"evs\": metrics.explained_variance_score(y_test, y_pred),\n",
    "           \"mae\": metrics.mean_absolute_error(y_test, y_pred),\n",
    "           \"mse\": metrics.mean_squared_error(y_test, y_pred),\n",
    "           \"msle\": metrics.mean_squared_log_error(y_test, y_pred)}#None}\n",
    "\n",
    "    resultados = resultados.append(res, ignore_index=True)"
   ]
  },
  {
   "cell_type": "code",
   "execution_count": 17,
   "metadata": {
    "colab": {
     "base_uri": "https://localhost:8080/",
     "height": 164
    },
    "colab_type": "code",
    "executionInfo": {
     "elapsed": 1065,
     "status": "ok",
     "timestamp": 1545255277121,
     "user": {
      "displayName": "Arthur Assis",
      "photoUrl": "https://lh4.googleusercontent.com/-5KU4tLOW8zM/AAAAAAAAAAI/AAAAAAAAAII/iRgWaIIgHkE/s64/photo.jpg",
      "userId": "16374502001537913584"
     },
     "user_tz": 120
    },
    "id": "O9WisulmTkd6",
    "outputId": "ebd75a2e-88eb-4540-d2f7-922556c6f87b"
   },
   "outputs": [
    {
     "data": {
      "text/html": [
       "<div>\n",
       "<style scoped>\n",
       "    .dataframe tbody tr th:only-of-type {\n",
       "        vertical-align: middle;\n",
       "    }\n",
       "\n",
       "    .dataframe tbody tr th {\n",
       "        vertical-align: top;\n",
       "    }\n",
       "\n",
       "    .dataframe thead th {\n",
       "        text-align: right;\n",
       "    }\n",
       "</style>\n",
       "<table border=\"1\" class=\"dataframe\">\n",
       "  <thead>\n",
       "    <tr style=\"text-align: right;\">\n",
       "      <th></th>\n",
       "      <th>algoritmo</th>\n",
       "      <th>parametros</th>\n",
       "      <th>score_treino</th>\n",
       "      <th>score_teste</th>\n",
       "      <th>evs</th>\n",
       "      <th>mae</th>\n",
       "      <th>mse</th>\n",
       "      <th>msle</th>\n",
       "    </tr>\n",
       "  </thead>\n",
       "  <tbody>\n",
       "    <tr>\n",
       "      <th>0</th>\n",
       "      <td>elasticnet</td>\n",
       "      <td>None</td>\n",
       "      <td>0.061922</td>\n",
       "      <td>0.083592</td>\n",
       "      <td>0.083642</td>\n",
       "      <td>0.342678</td>\n",
       "      <td>0.207691</td>\n",
       "      <td>0.010581</td>\n",
       "    </tr>\n",
       "    <tr>\n",
       "      <th>1</th>\n",
       "      <td>svm</td>\n",
       "      <td>None</td>\n",
       "      <td>0.954667</td>\n",
       "      <td>0.013183</td>\n",
       "      <td>0.015164</td>\n",
       "      <td>0.360590</td>\n",
       "      <td>0.223648</td>\n",
       "      <td>0.011328</td>\n",
       "    </tr>\n",
       "    <tr>\n",
       "      <th>2</th>\n",
       "      <td>regressao_linear</td>\n",
       "      <td>None</td>\n",
       "      <td>0.125333</td>\n",
       "      <td>0.092393</td>\n",
       "      <td>0.092462</td>\n",
       "      <td>0.339157</td>\n",
       "      <td>0.205696</td>\n",
       "      <td>0.010443</td>\n",
       "    </tr>\n",
       "    <tr>\n",
       "      <th>3</th>\n",
       "      <td>random_forest</td>\n",
       "      <td>None</td>\n",
       "      <td>0.880729</td>\n",
       "      <td>0.134511</td>\n",
       "      <td>0.135064</td>\n",
       "      <td>0.332257</td>\n",
       "      <td>0.196151</td>\n",
       "      <td>0.009912</td>\n",
       "    </tr>\n",
       "  </tbody>\n",
       "</table>\n",
       "</div>"
      ],
      "text/plain": [
       "          algoritmo parametros  score_treino  score_teste       evs       mae  \\\n",
       "0        elasticnet       None      0.061922     0.083592  0.083642  0.342678   \n",
       "1               svm       None      0.954667     0.013183  0.015164  0.360590   \n",
       "2  regressao_linear       None      0.125333     0.092393  0.092462  0.339157   \n",
       "3     random_forest       None      0.880729     0.134511  0.135064  0.332257   \n",
       "\n",
       "        mse      msle  \n",
       "0  0.207691  0.010581  \n",
       "1  0.223648  0.011328  \n",
       "2  0.205696  0.010443  \n",
       "3  0.196151  0.009912  "
      ]
     },
     "execution_count": 17,
     "metadata": {
      "tags": []
     },
     "output_type": "execute_result"
    }
   ],
   "source": [
    "resultados"
   ]
  },
  {
   "cell_type": "markdown",
   "metadata": {
    "colab_type": "text",
    "id": "IuUVIAGhTmtO"
   },
   "source": [
    "## Utilização do autoML para construção do melhor modelo"
   ]
  },
  {
   "cell_type": "code",
   "execution_count": 0,
   "metadata": {
    "colab": {},
    "colab_type": "code",
    "id": "oJbSVJuNT2_o"
   },
   "outputs": [],
   "source": [
    "tpot = TPOTRegressor(generations=5, population_size=20, verbosity=2)\n",
    "tpot.fit(X_train, y_train)\n",
    "print(tpot.score(X_test, y_test))\n",
    "tpot.export('tpot_shares_pipeline.py')\n",
    "files.download('tpot_shares_pipeline.py')"
   ]
  },
  {
   "cell_type": "code",
   "execution_count": 0,
   "metadata": {
    "colab": {},
    "colab_type": "code",
    "id": "cA4E5zxikD7R"
   },
   "outputs": [],
   "source": [
    "pipeline = make_pipeline(\n",
    "    StandardScaler(),\n",
    "    StackingEstimator(estimator=ElasticNetCV(l1_ratio=0.8500000000000001, tol=0.0001)),\n",
    "    RandomForestRegressor(bootstrap=True, max_features=0.8, min_samples_leaf=14, min_samples_split=13, n_estimators=100)\n",
    ")"
   ]
  },
  {
   "cell_type": "markdown",
   "metadata": {
    "colab_type": "text",
    "id": "SCSMeAK6UbZf"
   },
   "source": [
    "## Aplicação do melhor modelo gerador pelo AutoML"
   ]
  },
  {
   "cell_type": "code",
   "execution_count": 22,
   "metadata": {
    "colab": {
     "base_uri": "https://localhost:8080/",
     "height": 144
    },
    "colab_type": "code",
    "executionInfo": {
     "elapsed": 3911,
     "status": "ok",
     "timestamp": 1545255513586,
     "user": {
      "displayName": "Arthur Assis",
      "photoUrl": "https://lh4.googleusercontent.com/-5KU4tLOW8zM/AAAAAAAAAAI/AAAAAAAAAII/iRgWaIIgHkE/s64/photo.jpg",
      "userId": "16374502001537913584"
     },
     "user_tz": 120
    },
    "id": "SZ3AMTTdkH42",
    "outputId": "fb6b049a-35a3-434a-c1f7-aa9d9b70a4a1"
   },
   "outputs": [
    {
     "name": "stderr",
     "output_type": "stream",
     "text": [
      "/usr/local/lib/python3.6/dist-packages/sklearn/linear_model/coordinate_descent.py:1109: DataConversionWarning: A column-vector y was passed when a 1d array was expected. Please change the shape of y to (n_samples, ), for example using ravel().\n",
      "  y = column_or_1d(y, warn=True)\n",
      "/usr/local/lib/python3.6/dist-packages/sklearn/model_selection/_split.py:2053: FutureWarning: You should specify a value for 'cv' instead of relying on the default value. The default value will change from 3 to 5 in version 0.22.\n",
      "  warnings.warn(CV_WARNING, FutureWarning)\n",
      "/usr/local/lib/python3.6/dist-packages/sklearn/pipeline.py:267: DataConversionWarning: A column-vector y was passed when a 1d array was expected. Please change the shape of y to (n_samples,), for example using ravel().\n",
      "  self._final_estimator.fit(Xt, y, **fit_params)\n"
     ]
    }
   ],
   "source": [
    "pipeline.fit(X_train, y_train)\n",
    "results = pipeline.predict(X_test)\n",
    "\n",
    "res = {\"algoritmo\": 'stacking',\n",
    "           \"parametros\": None,\n",
    "           \"score_treino\": pipeline.score(X_train, y_train),\n",
    "           \"score_teste\": pipeline.score(X_test, results),\n",
    "           \"evs\": metrics.explained_variance_score(y_test, results),\n",
    "           \"mae\": metrics.mean_absolute_error(y_test, results),\n",
    "           \"mse\": metrics.mean_squared_error(y_test, results),\n",
    "           \"msle\": metrics.mean_squared_log_error(y_test, results)}\n",
    "\n",
    "resultados = resultados.append(res, ignore_index=True)"
   ]
  },
  {
   "cell_type": "code",
   "execution_count": 23,
   "metadata": {
    "colab": {
     "base_uri": "https://localhost:8080/",
     "height": 225
    },
    "colab_type": "code",
    "executionInfo": {
     "elapsed": 9245,
     "status": "ok",
     "timestamp": 1545255538896,
     "user": {
      "displayName": "Arthur Assis",
      "photoUrl": "https://lh4.googleusercontent.com/-5KU4tLOW8zM/AAAAAAAAAAI/AAAAAAAAAII/iRgWaIIgHkE/s64/photo.jpg",
      "userId": "16374502001537913584"
     },
     "user_tz": 120
    },
    "id": "vb1Wz8baaBsK",
    "outputId": "33338a24-f267-403b-9566-dcf9b0fe963f"
   },
   "outputs": [
    {
     "data": {
      "text/html": [
       "<div>\n",
       "<style scoped>\n",
       "    .dataframe tbody tr th:only-of-type {\n",
       "        vertical-align: middle;\n",
       "    }\n",
       "\n",
       "    .dataframe tbody tr th {\n",
       "        vertical-align: top;\n",
       "    }\n",
       "\n",
       "    .dataframe thead th {\n",
       "        text-align: right;\n",
       "    }\n",
       "</style>\n",
       "<table border=\"1\" class=\"dataframe\">\n",
       "  <thead>\n",
       "    <tr style=\"text-align: right;\">\n",
       "      <th></th>\n",
       "      <th>algoritmo</th>\n",
       "      <th>parametros</th>\n",
       "      <th>score_treino</th>\n",
       "      <th>score_teste</th>\n",
       "      <th>evs</th>\n",
       "      <th>mae</th>\n",
       "      <th>mse</th>\n",
       "      <th>msle</th>\n",
       "    </tr>\n",
       "  </thead>\n",
       "  <tbody>\n",
       "    <tr>\n",
       "      <th>0</th>\n",
       "      <td>elasticnet</td>\n",
       "      <td>None</td>\n",
       "      <td>0.061922</td>\n",
       "      <td>0.083592</td>\n",
       "      <td>0.083642</td>\n",
       "      <td>0.342678</td>\n",
       "      <td>0.207691</td>\n",
       "      <td>0.010581</td>\n",
       "    </tr>\n",
       "    <tr>\n",
       "      <th>1</th>\n",
       "      <td>svm</td>\n",
       "      <td>None</td>\n",
       "      <td>0.954667</td>\n",
       "      <td>0.013183</td>\n",
       "      <td>0.015164</td>\n",
       "      <td>0.360590</td>\n",
       "      <td>0.223648</td>\n",
       "      <td>0.011328</td>\n",
       "    </tr>\n",
       "    <tr>\n",
       "      <th>2</th>\n",
       "      <td>regressao_linear</td>\n",
       "      <td>None</td>\n",
       "      <td>0.125333</td>\n",
       "      <td>0.092393</td>\n",
       "      <td>0.092462</td>\n",
       "      <td>0.339157</td>\n",
       "      <td>0.205696</td>\n",
       "      <td>0.010443</td>\n",
       "    </tr>\n",
       "    <tr>\n",
       "      <th>3</th>\n",
       "      <td>random_forest</td>\n",
       "      <td>None</td>\n",
       "      <td>0.880729</td>\n",
       "      <td>0.134511</td>\n",
       "      <td>0.135064</td>\n",
       "      <td>0.332257</td>\n",
       "      <td>0.196151</td>\n",
       "      <td>0.009912</td>\n",
       "    </tr>\n",
       "    <tr>\n",
       "      <th>4</th>\n",
       "      <td>stacking</td>\n",
       "      <td>None</td>\n",
       "      <td>0.437629</td>\n",
       "      <td>1.000000</td>\n",
       "      <td>0.139023</td>\n",
       "      <td>0.329617</td>\n",
       "      <td>0.195148</td>\n",
       "      <td>0.009879</td>\n",
       "    </tr>\n",
       "    <tr>\n",
       "      <th>5</th>\n",
       "      <td>stacking</td>\n",
       "      <td>None</td>\n",
       "      <td>0.431962</td>\n",
       "      <td>1.000000</td>\n",
       "      <td>0.137278</td>\n",
       "      <td>0.331082</td>\n",
       "      <td>0.195557</td>\n",
       "      <td>0.009899</td>\n",
       "    </tr>\n",
       "  </tbody>\n",
       "</table>\n",
       "</div>"
      ],
      "text/plain": [
       "          algoritmo parametros  score_treino  score_teste       evs       mae  \\\n",
       "0        elasticnet       None      0.061922     0.083592  0.083642  0.342678   \n",
       "1               svm       None      0.954667     0.013183  0.015164  0.360590   \n",
       "2  regressao_linear       None      0.125333     0.092393  0.092462  0.339157   \n",
       "3     random_forest       None      0.880729     0.134511  0.135064  0.332257   \n",
       "4          stacking       None      0.437629     1.000000  0.139023  0.329617   \n",
       "5          stacking       None      0.431962     1.000000  0.137278  0.331082   \n",
       "\n",
       "        mse      msle  \n",
       "0  0.207691  0.010581  \n",
       "1  0.223648  0.011328  \n",
       "2  0.205696  0.010443  \n",
       "3  0.196151  0.009912  \n",
       "4  0.195148  0.009879  \n",
       "5  0.195557  0.009899  "
      ]
     },
     "execution_count": 23,
     "metadata": {
      "tags": []
     },
     "output_type": "execute_result"
    }
   ],
   "source": [
    "resultados"
   ]
  },
  {
   "cell_type": "code",
   "execution_count": 36,
   "metadata": {
    "cellView": "both",
    "colab": {
     "base_uri": "https://localhost:8080/",
     "height": 394
    },
    "colab_type": "code",
    "executionInfo": {
     "elapsed": 11299,
     "status": "ok",
     "timestamp": 1545256496599,
     "user": {
      "displayName": "Arthur Assis",
      "photoUrl": "https://lh4.googleusercontent.com/-5KU4tLOW8zM/AAAAAAAAAAI/AAAAAAAAAII/iRgWaIIgHkE/s64/photo.jpg",
      "userId": "16374502001537913584"
     },
     "user_tz": 120
    },
    "id": "ekLw9SkxkjG4",
    "outputId": "d18c763b-a995-45a7-cea8-ae88ba6de9e1"
   },
   "outputs": [
    {
     "data": {
      "text/plain": [
       "Text(0.5,1,'Random Forest Regressor')"
      ]
     },
     "execution_count": 36,
     "metadata": {
      "tags": []
     },
     "output_type": "execute_result"
    },
    {
     "data": {
      "image/png": "[encoded data removed]",
      "text/plain": [
       "<matplotlib.figure.Figure at 0x7f1d81224eb8>"
      ]
     },
     "metadata": {
      "tags": []
     },
     "output_type": "display_data"
    }
   ],
   "source": [
    "#@title\n",
    "plt.subplot(2,2, 1)\n",
    "en = plt.scatter(x=\"shares\", y=\"pred_elasticnet\", data=predicts)\n",
    "plt.xlabel(\"Real\")\n",
    "plt.ylabel(\"Predicted\")\n",
    "plt.title(\"ElasticNet\")\n",
    "plt.subplot(2,2, 2)\n",
    "sv = plt.scatter(x=\"shares\", y=\"pred_svm\", data=predicts)\n",
    "plt.xlabel(\"Real\")\n",
    "plt.ylabel(\"Predicted\")\n",
    "plt.title(\"SVM\")\n",
    "plt.subplot(2,2, 3)\n",
    "rl = plt.scatter(x=\"shares\", y=\"pred_regressao_linear\", data=predicts)\n",
    "plt.xlabel(\"Real\")\n",
    "plt.ylabel(\"Predicted\")\n",
    "plt.title(\"Regressão Linear\")\n",
    "plt.subplot(2,2, 4)\n",
    "rf = plt.scatter(x=\"shares\", y=\"pred_random_forest\", data=predicts)\n",
    "plt.xlabel(\"Real\")\n",
    "plt.ylabel(\"Predicted\")\n",
    "plt.title(\"Random Forest Regressor\")\n",
    "\n"
   ]
  },
  {
   "cell_type": "markdown",
   "metadata": {
    "colab_type": "text",
    "id": "d4Vscdp5cBOz"
   },
   "source": []
  },
  {
   "cell_type": "code",
   "execution_count": 37,
   "metadata": {
    "colab": {
     "base_uri": "https://localhost:8080/",
     "height": 394
    },
    "colab_type": "code",
    "executionInfo": {
     "elapsed": 1507,
     "status": "ok",
     "timestamp": 1545256731484,
     "user": {
      "displayName": "Arthur Assis",
      "photoUrl": "https://lh4.googleusercontent.com/-5KU4tLOW8zM/AAAAAAAAAAI/AAAAAAAAAII/iRgWaIIgHkE/s64/photo.jpg",
      "userId": "16374502001537913584"
     },
     "user_tz": 120
    },
    "id": "SXIR2yX0b7m2",
    "outputId": "8d118d35-98c8-4947-85f0-f87b04fea1e4"
   },
   "outputs": [
    {
     "data": {
      "text/plain": [
       "Text(0.5,1,'Stacking')"
      ]
     },
     "execution_count": 37,
     "metadata": {
      "tags": []
     },
     "output_type": "execute_result"
    },
    {
     "data": {
      "image/png": "[encoded data removed]",
      "text/plain": [
       "<matplotlib.figure.Figure at 0x7f1d81348668>"
      ]
     },
     "metadata": {
      "tags": []
     },
     "output_type": "display_data"
    }
   ],
   "source": [
    "predicts['pred_stacking'] = results\n",
    "plt.scatter(x=\"shares\", y=\"pred_stacking\", data=predicts)\n",
    "plt.xlabel(\"Real\")\n",
    "plt.ylabel(\"Predicted\")\n",
    "plt.title(\"Stacking\")"
   ]
  },
  {
   "cell_type": "markdown",
   "metadata": {
    "colab_type": "text",
    "id": "5tqsP8hPYzQW"
   },
   "source": []
  }
 ],
 "metadata": {
  "colab": {
   "collapsed_sections": [],
   "name": "online_news_popularity.ipynb",
   "provenance": [],
   "version": "0.3.2"
  },
  "kernelspec": {
   "display_name": "Python 3",
   "language": "python",
   "name": "python3"
  },
  "language_info": {
   "codemirror_mode": {
    "name": "ipython",
    "version": 3
   },
   "file_extension": ".py",
   "mimetype": "text/x-python",
   "name": "python",
   "nbconvert_exporter": "python",
   "pygments_lexer": "ipython3",
   "version": "3.6.4"
  }
 },
 "nbformat": 4,
 "nbformat_minor": 1
}
